{
 "cells": [
  {
   "cell_type": "markdown",
   "id": "2e0bf3e5",
   "metadata": {
    "papermill": {
     "duration": 0.001768,
     "end_time": "2025-04-20T22:42:13.240340",
     "exception": false,
     "start_time": "2025-04-20T22:42:13.238572",
     "status": "completed"
    },
    "tags": []
   },
   "source": [
    "\n",
    "# BBC News Classification\n",
    "**CSCA-5632 Unsupervised Algorithms in Machine Learning**\n",
    "**University of Colorado Boulder**\n",
    "\n",
    "## Project Overview:\n",
    "### This class project categorizes news articles using matrix factorization to predict the categories. \n",
    "\n",
    "This notebook includes the following:\n",
    "* Brief EDA procedures\n",
    "* Matrix factorization model building and training\n",
    "* Model predictions and results\n",
    "* Prediction results comparison with Supervised Learning\n",
    "\n",
    "### Description\n",
    "This project will use a public dataset from the BBC comprised of 2225 articles, each labeled under one of the five categories: business, entertainment, politics, sport, or tech. It is a balanced dataset that. Each category has about 400~500 articles, which ensures meaningful classification.\n",
    "\n",
    "[@misc{learn-ai-bbc,\n",
    "    author = {Bijoy Bose},\n",
    "    title = {BBC News Classification},\n",
    "    year = {2019},\n",
    "    howpublished = {\\url{https://kaggle.com/competitions/learn-ai-bbc}},\n",
    "    note = {Kaggle}\n",
    "}](https://kaggle.com/competitions/learn-ai-bbc})"
   ]
  },
  {
   "cell_type": "code",
   "execution_count": 1,
   "id": "a3d5c66d",
   "metadata": {
    "execution": {
     "iopub.execute_input": "2025-04-20T22:42:13.244271Z",
     "iopub.status.busy": "2025-04-20T22:42:13.243924Z",
     "iopub.status.idle": "2025-04-20T22:42:22.965787Z",
     "shell.execute_reply": "2025-04-20T22:42:22.965078Z"
    },
    "papermill": {
     "duration": 9.725569,
     "end_time": "2025-04-20T22:42:22.967147",
     "exception": false,
     "start_time": "2025-04-20T22:42:13.241578",
     "status": "completed"
    },
    "tags": []
   },
   "outputs": [],
   "source": [
    "from collections import Counter\n",
    "import numpy as np\n",
    "import pandas as pd\n",
    "import seaborn as sns\n",
    "import matplotlib.pyplot as plt\n",
    "import spacy\n",
    "from sklearn.model_selection import train_test_split, GridSearchCV\n",
    "from sklearn.feature_extraction.text import TfidfVectorizer\n",
    "from sklearn.decomposition import NMF\n",
    "from sklearn.metrics import make_scorer, accuracy_score, confusion_matrix, ConfusionMatrixDisplay\n",
    "from sklearn.pipeline import Pipeline\n",
    "from sklearn.preprocessing import LabelEncoder\n",
    "from sklearn.base import BaseEstimator, TransformerMixin\n",
    "\n",
    "import warnings\n",
    "warnings.simplefilter(action='ignore', category=FutureWarning)\n",
    "\n",
    "import os\n",
    "for dirname, _, filenames in os.walk('/kaggle/input'):\n",
    "    for filename in filenames:\n",
    "        print(os.path.join(dirname, filename))\n",
    "\n"
   ]
  },
  {
   "cell_type": "code",
   "execution_count": null,
   "id": "9c7017e6",
   "metadata": {
    "papermill": {
     "duration": 0.000948,
     "end_time": "2025-04-20T22:42:22.969625",
     "exception": false,
     "start_time": "2025-04-20T22:42:22.968677",
     "status": "completed"
    },
    "tags": []
   },
   "outputs": [],
   "source": []
  },
  {
   "cell_type": "code",
   "execution_count": null,
   "id": "67ffa900",
   "metadata": {
    "papermill": {
     "duration": 0.000859,
     "end_time": "2025-04-20T22:42:22.971556",
     "exception": false,
     "start_time": "2025-04-20T22:42:22.970697",
     "status": "completed"
    },
    "tags": []
   },
   "outputs": [],
   "source": []
  },
  {
   "cell_type": "code",
   "execution_count": null,
   "id": "9ef31249",
   "metadata": {
    "papermill": {
     "duration": 0.000815,
     "end_time": "2025-04-20T22:42:22.973356",
     "exception": false,
     "start_time": "2025-04-20T22:42:22.972541",
     "status": "completed"
    },
    "tags": []
   },
   "outputs": [],
   "source": []
  }
 ],
 "metadata": {
  "kaggle": {
   "accelerator": "none",
   "dataSources": [],
   "dockerImageVersionId": 31012,
   "isGpuEnabled": false,
   "isInternetEnabled": false,
   "language": "python",
   "sourceType": "notebook"
  },
  "kernelspec": {
   "display_name": "Python 3",
   "language": "python",
   "name": "python3"
  },
  "language_info": {
   "codemirror_mode": {
    "name": "ipython",
    "version": 3
   },
   "file_extension": ".py",
   "mimetype": "text/x-python",
   "name": "python",
   "nbconvert_exporter": "python",
   "pygments_lexer": "ipython3",
   "version": "3.11.11"
  },
  "papermill": {
   "default_parameters": {},
   "duration": 14.735859,
   "end_time": "2025-04-20T22:42:24.495048",
   "environment_variables": {},
   "exception": null,
   "input_path": "__notebook__.ipynb",
   "output_path": "__notebook__.ipynb",
   "parameters": {},
   "start_time": "2025-04-20T22:42:09.759189",
   "version": "2.6.0"
  }
 },
 "nbformat": 4,
 "nbformat_minor": 5
}
